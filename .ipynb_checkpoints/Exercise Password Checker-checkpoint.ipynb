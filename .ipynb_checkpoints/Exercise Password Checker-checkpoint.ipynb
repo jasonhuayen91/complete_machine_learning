{
 "cells": [
  {
   "cell_type": "code",
   "execution_count": 1,
   "metadata": {},
   "outputs": [
    {
     "name": "stdout",
     "output_type": "stream",
     "text": [
      "insert your name: fulano\n",
      "fulano\n"
     ]
    }
   ],
   "source": [
    "# name = input('insert your name: ')\n",
    "# print(name)"
   ]
  },
  {
   "cell_type": "code",
   "execution_count": 17,
   "metadata": {},
   "outputs": [
    {
     "name": "stdout",
     "output_type": "stream",
     "text": [
      "insert your name: Maurizio\n",
      "insert your password: jfgt>-kih!@#\n",
      "Hi Maurizio, your password ************ is 12 chars long.\n"
     ]
    }
   ],
   "source": [
    "name = input('insert your name: ')\n",
    "password = input('insert your password: ')\n",
    "\n",
    "# for i in range(len(password)):\n",
    "#     star += '*'\n",
    "\n",
    "counted = len(password)\n",
    "star = '*' * counted\n",
    "\n",
    "print(f'Hi {name}, your password {star} is {counted} chars long.')"
   ]
  },
  {
   "cell_type": "code",
   "execution_count": null,
   "metadata": {},
   "outputs": [],
   "source": []
  }
 ],
 "metadata": {
  "kernelspec": {
   "display_name": "Python 3",
   "language": "python",
   "name": "python3"
  },
  "language_info": {
   "codemirror_mode": {
    "name": "ipython",
    "version": 3
   },
   "file_extension": ".py",
   "mimetype": "text/x-python",
   "name": "python",
   "nbconvert_exporter": "python",
   "pygments_lexer": "ipython3",
   "version": "3.8.3"
  }
 },
 "nbformat": 4,
 "nbformat_minor": 4
}
